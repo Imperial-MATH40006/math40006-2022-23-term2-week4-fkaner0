{
 "cells": [
  {
   "cell_type": "code",
   "execution_count": 1,
   "id": "nearby-recruitment",
   "metadata": {},
   "outputs": [
    {
     "name": "stdout",
     "output_type": "stream",
     "text": [
      "Autograder loaded successfully!\n",
      "Remember to always restart and run all from the Kernel menu before submitting!\n"
     ]
    }
   ],
   "source": [
    "from autograder_term2week4 import *\n",
    "_globals = globals()\n",
    "import numpy as np\n",
    "import random as rnd\n",
    "import numpy.random as nrnd\n",
    "import matplotlib.pyplot as plt\n",
    "from mpl_toolkits.mplot3d import Axes3D\n",
    "%matplotlib inline"
   ]
  },
  {
   "cell_type": "markdown",
   "id": "coastal-hudson",
   "metadata": {
    "deletable": false,
    "editable": false,
    "nbgrader": {
     "cell_type": "markdown",
     "checksum": "f0dabab28b711cd6efbdb6e1cd194c1d",
     "grade": false,
     "grade_id": "cell-9a2d6548d091858f",
     "locked": true,
     "schema_version": 3,
     "solution": false,
     "task": false
    }
   },
   "source": [
    "# <center> Introduction to Mathematical Computing </center>\n",
    "### <center>Phil Ramsden, Boumediene Hamzi, Sam Brzezicki</center>\n",
    "\n",
    "# <center> Worksheet 8: random, numpy.random and matplotlib.pyplot</center>\n",
    "\n",
    "**NOTE:** When answering a question, remember to remove the `raise NotImplementedError()` line."
   ]
  },
  {
   "cell_type": "markdown",
   "id": "0b3fa256",
   "metadata": {
    "deletable": false,
    "editable": false,
    "nbgrader": {
     "cell_type": "markdown",
     "checksum": "0e4e47ff48e2ae68957dd84124489909",
     "grade": false,
     "grade_id": "cell-4e52cc4a449c1686",
     "locked": true,
     "schema_version": 3,
     "solution": false,
     "task": false
    }
   },
   "source": [
    "## Question 0: don't miss this bit!\n",
    "\n",
    "In the file called `my_username.txt`, type your <b>short-form College user name</b> (this will usually be one or more letters followed by three or more figures, such as qk4019). Don't use quote marks. Then save the file."
   ]
  },
  {
   "cell_type": "code",
   "execution_count": 2,
   "id": "9746968b",
   "metadata": {
    "deletable": false,
    "editable": false,
    "nbgrader": {
     "cell_type": "code",
     "checksum": "9118f6eaa529f08dc88e00bd60b1bad5",
     "grade": true,
     "grade_id": "cell-e651f6a984190fff",
     "locked": true,
     "points": 5,
     "schema_version": 3,
     "solution": false,
     "task": false
    }
   },
   "outputs": [
    {
     "name": "stdout",
     "output_type": "stream",
     "text": [
      "You've changed the contents of the file; thank you!\n",
      "Your username has been recognised; thank you!\n",
      "\n",
      "5 out of 5 marks\n"
     ]
    },
    {
     "data": {
      "text/plain": [
       "5"
      ]
     },
     "execution_count": 2,
     "metadata": {},
     "output_type": "execute_result"
    }
   ],
   "source": [
    "# 5 Marks\n",
    "# Do not try to delete this cell\n",
    "# Run this cell for grading of Question 0\n",
    "_globals = globals()\n",
    "question0(_globals)"
   ]
  },
  {
   "cell_type": "markdown",
   "id": "overhead-colombia",
   "metadata": {
    "deletable": false,
    "editable": false,
    "nbgrader": {
     "cell_type": "markdown",
     "checksum": "6ca098041134857b110a900be8874832",
     "grade": false,
     "grade_id": "cell-5bc1ef50e4db19b0",
     "locked": true,
     "schema_version": 3,
     "solution": false,
     "task": false
    }
   },
   "source": [
    "## Question 1\n",
    "\n",
    "(a) Using the `random` function from the `random` module in a comprehension, or otherwise, create a list of 10 random floats between 0 and 1, calling it `randlist10`."
   ]
  },
  {
   "cell_type": "code",
   "execution_count": 3,
   "id": "civil-madison",
   "metadata": {
    "deletable": false,
    "nbgrader": {
     "cell_type": "code",
     "checksum": "d3dba98851428c43a11af9e6930e1177",
     "grade": false,
     "grade_id": "cell-8effae7d5d727daf",
     "locked": false,
     "schema_version": 3,
     "solution": true,
     "task": false
    }
   },
   "outputs": [
    {
     "name": "stdout",
     "output_type": "stream",
     "text": [
      "[0.7812313814963567, 0.29119261971828236, 0.8988967138852678, 0.9977346522556672, 0.26093077301154455, 0.7705076362180502, 0.7236969406311446, 0.9151511588973803, 0.19807074620313747, 0.5018225585388831]\n"
     ]
    }
   ],
   "source": [
    "randlist10 = [rnd.random() for _ in range(10)]\n",
    "print(randlist10)"
   ]
  },
  {
   "cell_type": "code",
   "execution_count": 4,
   "id": "through-butter",
   "metadata": {
    "deletable": false,
    "editable": false,
    "nbgrader": {
     "cell_type": "code",
     "checksum": "06b13707d94cfa317a0433db9be20d37",
     "grade": true,
     "grade_id": "cell-3bb8a366d0cd2f16",
     "locked": true,
     "points": 1,
     "schema_version": 3,
     "solution": false,
     "task": false
    }
   },
   "outputs": [
    {
     "name": "stdout",
     "output_type": "stream",
     "text": [
      "randlist10 is a list\n",
      "randlist10 has correct length\n",
      "randlist10 consists of floats\n",
      "The elements of randlist10 are in the correct range\n",
      "Test passed!\n"
     ]
    },
    {
     "data": {
      "text/plain": [
       "1"
      ]
     },
     "execution_count": 4,
     "metadata": {},
     "output_type": "execute_result"
    }
   ],
   "source": [
    "# 1 Mark\n",
    "# Do not try to delete this cell\n",
    "# Run this cell for grading\n",
    "_globals = globals()\n",
    "question1a(_globals)"
   ]
  },
  {
   "cell_type": "markdown",
   "id": "explicit-grove",
   "metadata": {
    "deletable": false,
    "editable": false,
    "nbgrader": {
     "cell_type": "markdown",
     "checksum": "b1b60e21a7308f02e9bfffbaf42349f2",
     "grade": false,
     "grade_id": "cell-dbc5e5fdfd51d489",
     "locked": true,
     "schema_version": 3,
     "solution": false,
     "task": false
    }
   },
   "source": [
    "(b) Using a single call to the `random` function from the `numpy.random` submodule (a comprehension or loop shouldn't be necessary), create an <em>array</em> of ten random floats between 0 and 1, calling it `randarray10`."
   ]
  },
  {
   "cell_type": "code",
   "execution_count": 5,
   "id": "quarterly-clothing",
   "metadata": {
    "deletable": false,
    "nbgrader": {
     "cell_type": "code",
     "checksum": "74e5a5c765c76bc150440ae22dc5d96c",
     "grade": false,
     "grade_id": "cell-8aa73d4f6c33fc13",
     "locked": false,
     "schema_version": 3,
     "solution": true,
     "task": false
    }
   },
   "outputs": [
    {
     "name": "stdout",
     "output_type": "stream",
     "text": [
      "[0.77417729 0.3641602  0.05459846 0.0837694  0.30748527 0.46949577\n",
      " 0.99177624 0.7408778  0.63380337 0.58851748]\n"
     ]
    }
   ],
   "source": [
    "randarray10 = nrnd.rand(10)\n",
    "\n",
    "print(randarray10)"
   ]
  },
  {
   "cell_type": "code",
   "execution_count": 6,
   "id": "diagnostic-military",
   "metadata": {
    "deletable": false,
    "editable": false,
    "nbgrader": {
     "cell_type": "code",
     "checksum": "cd3b050adb5878124b87b35c726157fe",
     "grade": true,
     "grade_id": "cell-ce170d2b98f8e75d",
     "locked": true,
     "points": 1,
     "schema_version": 3,
     "solution": false,
     "task": false
    }
   },
   "outputs": [
    {
     "name": "stdout",
     "output_type": "stream",
     "text": [
      "randarray10 is a numpy array\n",
      "randarray10 is 1D and of length 10\n",
      "randarray10 consists of floats\n",
      "The elements of randarray10 are in the correct range\n",
      "Test passed!\n"
     ]
    },
    {
     "data": {
      "text/plain": [
       "1"
      ]
     },
     "execution_count": 6,
     "metadata": {},
     "output_type": "execute_result"
    }
   ],
   "source": [
    "# 1 Mark\n",
    "# Do not try to delete this cell\n",
    "# Run this cell for grading\n",
    "_globals = globals()\n",
    "question1b(_globals)"
   ]
  },
  {
   "cell_type": "markdown",
   "id": "behind-header",
   "metadata": {
    "deletable": false,
    "editable": false,
    "nbgrader": {
     "cell_type": "markdown",
     "checksum": "624ec299aac7a49b9039dd6381ad7d1f",
     "grade": false,
     "grade_id": "cell-ee0e74dcf3241947",
     "locked": true,
     "schema_version": 3,
     "solution": false,
     "task": false
    }
   },
   "source": [
    "(c) Using a single call to the `random` function from the `numpy.random` submodule, create a 20 by 10 array of random floats between 0 and 1, calling it `randarray20by10`."
   ]
  },
  {
   "cell_type": "code",
   "execution_count": 7,
   "id": "amber-exemption",
   "metadata": {
    "deletable": false,
    "nbgrader": {
     "cell_type": "code",
     "checksum": "6daa847ecf4b08c3117aaf9939ff0fa9",
     "grade": false,
     "grade_id": "cell-5af25bc81361e627",
     "locked": false,
     "schema_version": 3,
     "solution": true,
     "task": false
    }
   },
   "outputs": [
    {
     "name": "stdout",
     "output_type": "stream",
     "text": [
      "[[0.81946539 0.41023694 0.51472005 0.04548679 0.54102637 0.06020479\n",
      "  0.69637569 0.33963763 0.01860871 0.48922703]\n",
      " [0.30032884 0.39091299 0.492343   0.09917244 0.03074083 0.20158764\n",
      "  0.31198495 0.79931111 0.82861831 0.58117446]\n",
      " [0.81399182 0.82992553 0.76316812 0.47436408 0.77942533 0.66281496\n",
      "  0.81136729 0.39960983 0.82841821 0.48567795]\n",
      " [0.11384116 0.76925061 0.82039432 0.99481046 0.44688905 0.85190181\n",
      "  0.4933183  0.69508763 0.5557653  0.01261713]\n",
      " [0.47976867 0.2904937  0.45547674 0.90361871 0.39619008 0.68503327\n",
      "  0.28939963 0.15562614 0.95243638 0.43314695]\n",
      " [0.98388293 0.14427893 0.45539442 0.56744215 0.45887108 0.81938506\n",
      "  0.5824185  0.11558362 0.41672166 0.35478889]\n",
      " [0.95594701 0.38170133 0.23831558 0.68237417 0.71303162 0.90879947\n",
      "  0.47394286 0.15780352 0.41088085 0.42138781]\n",
      " [0.86262112 0.6718268  0.1171086  0.86950411 0.86231273 0.19022078\n",
      "  0.54002113 0.90307951 0.59511717 0.32740862]\n",
      " [0.19855307 0.7827333  0.96464696 0.54643439 0.22254624 0.23025068\n",
      "  0.87337701 0.87054612 0.54550061 0.17637202]\n",
      " [0.14463757 0.42507346 0.4947118  0.56527799 0.75026629 0.55826306\n",
      "  0.95180971 0.74966312 0.88414759 0.43853859]\n",
      " [0.96175079 0.23103453 0.2701544  0.76497642 0.96431323 0.07365046\n",
      "  0.29372838 0.83129474 0.81693553 0.51238368]\n",
      " [0.35337424 0.09796844 0.68121934 0.24737126 0.19718313 0.39347064\n",
      "  0.59892086 0.07224662 0.42518236 0.28839873]\n",
      " [0.76588944 0.00540476 0.40985028 0.47934321 0.96684527 0.25478312\n",
      "  0.32798891 0.88760157 0.25970809 0.44993978]\n",
      " [0.59744196 0.29919039 0.38333496 0.91306444 0.38497326 0.18282165\n",
      "  0.34598183 0.92352373 0.53023159 0.51001472]\n",
      " [0.7527855  0.54881711 0.2154143  0.80578606 0.66947121 0.1740874\n",
      "  0.92734998 0.95383085 0.47952079 0.04329435]\n",
      " [0.34821869 0.6638235  0.53792651 0.11943508 0.33587384 0.77539129\n",
      "  0.00942645 0.11546707 0.69592729 0.07759267]\n",
      " [0.16367981 0.25177749 0.06184821 0.30440725 0.15940455 0.01348245\n",
      "  0.08309333 0.87084881 0.79535752 0.32498359]\n",
      " [0.52782256 0.65210826 0.42283955 0.1007802  0.83975719 0.20851769\n",
      "  0.97464253 0.91457293 0.97724378 0.50237453]\n",
      " [0.28946742 0.29646536 0.11177884 0.61377614 0.39226711 0.4921669\n",
      "  0.75602168 0.15474991 0.73986253 0.10325241]\n",
      " [0.93385272 0.97983516 0.78411118 0.54859251 0.76548424 0.27310524\n",
      "  0.36209096 0.62370887 0.28564784 0.60750582]]\n"
     ]
    }
   ],
   "source": [
    "randarray20by10 = nrnd.random((20, 10))\n",
    "\n",
    "print(randarray20by10)"
   ]
  },
  {
   "cell_type": "code",
   "execution_count": 8,
   "id": "moved-reconstruction",
   "metadata": {
    "deletable": false,
    "editable": false,
    "nbgrader": {
     "cell_type": "code",
     "checksum": "25fad1e0e2e3e2d55106c293ffe906dd",
     "grade": true,
     "grade_id": "cell-fca540c130798a46",
     "locked": true,
     "points": 1,
     "schema_version": 3,
     "solution": false,
     "task": false
    }
   },
   "outputs": [
    {
     "name": "stdout",
     "output_type": "stream",
     "text": [
      "randarray20by10 is a numpy array\n",
      "randarray20by10 is 20 by 10\n",
      "randarray20by10 consists of floats\n",
      "The elements of randarray20by10 are in the correct range\n",
      "Test passed!\n"
     ]
    },
    {
     "data": {
      "text/plain": [
       "1"
      ]
     },
     "execution_count": 8,
     "metadata": {},
     "output_type": "execute_result"
    }
   ],
   "source": [
    "# 1 Mark\n",
    "# Do not try to delete this cell\n",
    "# Run this cell for grading\n",
    "_globals = globals()\n",
    "question1c(_globals)"
   ]
  },
  {
   "cell_type": "markdown",
   "id": "technological-sister",
   "metadata": {
    "deletable": false,
    "editable": false,
    "nbgrader": {
     "cell_type": "markdown",
     "checksum": "8b5dbb3e7896836836efa0d3620d0d6b",
     "grade": false,
     "grade_id": "cell-9f99e6636bb7d61c",
     "locked": true,
     "schema_version": 3,
     "solution": false,
     "task": false
    }
   },
   "source": [
    "(d) Using the `mean` function from `numpy`, with the keyword argument `axis` set to 1, calculate the 20 means of the 20 rows of your 20 by 10 array, as an array called `mean20`."
   ]
  },
  {
   "cell_type": "code",
   "execution_count": 9,
   "id": "centered-terminology",
   "metadata": {
    "deletable": false,
    "nbgrader": {
     "cell_type": "code",
     "checksum": "134758b6530fb99f117ccb75de67df15",
     "grade": false,
     "grade_id": "cell-afba63ef39f0040f",
     "locked": false,
     "schema_version": 3,
     "solution": true,
     "task": false
    }
   },
   "outputs": [
    {
     "name": "stdout",
     "output_type": "stream",
     "text": [
      "[0.39349894 0.40361746 0.68487631 0.57538758 0.50411903 0.48987673\n",
      " 0.53441842 0.59392206 0.54109604 0.59623892 0.57202222 0.33553356\n",
      " 0.48073544 0.50705785 0.55703575 0.36790824 0.3028883  0.61206592\n",
      " 0.39498083 0.61639345]\n"
     ]
    }
   ],
   "source": [
    "mean20 = np.mean(randarray20by10, axis=1)\n",
    "print(mean20)"
   ]
  },
  {
   "cell_type": "code",
   "execution_count": 10,
   "id": "brief-helping",
   "metadata": {
    "deletable": false,
    "editable": false,
    "nbgrader": {
     "cell_type": "code",
     "checksum": "3e0a83de4240308b4a909fddde552c0c",
     "grade": true,
     "grade_id": "cell-2a50ad10a36fbb2e",
     "locked": true,
     "points": 1,
     "schema_version": 3,
     "solution": false,
     "task": false
    }
   },
   "outputs": [
    {
     "name": "stdout",
     "output_type": "stream",
     "text": [
      "mean20 is a numpy array\n",
      "mean20 is 1D and of length 20\n",
      "mean20 consists of floats\n",
      "The elements of mean20 have the correct values\n",
      "Test passed!\n"
     ]
    },
    {
     "data": {
      "text/plain": [
       "1"
      ]
     },
     "execution_count": 10,
     "metadata": {},
     "output_type": "execute_result"
    }
   ],
   "source": [
    "# 1 Mark\n",
    "# Do not try to delete this cell\n",
    "# Run this cell for grading\n",
    "_globals = globals()\n",
    "question1d(_globals)"
   ]
  },
  {
   "cell_type": "markdown",
   "id": "rising-costa",
   "metadata": {
    "deletable": false,
    "editable": false,
    "nbgrader": {
     "cell_type": "markdown",
     "checksum": "68664ccc1fcc8ce93709c8d9985cdb7e",
     "grade": false,
     "grade_id": "cell-176270e3e7034b85",
     "locked": true,
     "schema_version": 3,
     "solution": false,
     "task": false
    }
   },
   "source": [
    "(e) Write and test a function called `rowmeans` which takes as its arguments two positive integers `nrows` and `ncols`, and returns an array with `nrows` elements, consisting of the means of each of the rows of an `nrows` by `ncols` array of random floats between 0 and 1."
   ]
  },
  {
   "cell_type": "code",
   "execution_count": 11,
   "id": "consolidated-oklahoma",
   "metadata": {
    "deletable": false,
    "nbgrader": {
     "cell_type": "code",
     "checksum": "05fb00a2ac990c5d6019fb5b82dee3f2",
     "grade": false,
     "grade_id": "cell-fd01131afb84211e",
     "locked": false,
     "schema_version": 3,
     "solution": true,
     "task": false
    }
   },
   "outputs": [],
   "source": [
    "def rowmeans(nrows, ncols):\n",
    "    rands = nrnd.random((nrows, ncols))\n",
    "    return np.mean(rands, axis=1)"
   ]
  },
  {
   "cell_type": "code",
   "execution_count": 12,
   "id": "innocent-system",
   "metadata": {
    "deletable": false,
    "editable": false,
    "nbgrader": {
     "cell_type": "code",
     "checksum": "53f70044afd5458c351df98b735cf88c",
     "grade": true,
     "grade_id": "cell-38309cec0bda6466",
     "locked": true,
     "points": 2,
     "schema_version": 3,
     "solution": false,
     "task": false
    }
   },
   "outputs": [
    {
     "name": "stdout",
     "output_type": "stream",
     "text": [
      "Testing: typical case\n",
      "Function returns a numpy array\n",
      "Function output has the correct dimensions\n",
      "Function output consists of floats\n",
      "The elements of the function output are in the correct range\n",
      "\n",
      "Testing: edge case\n",
      "Function returns a numpy array\n",
      "Function output has the correct dimensions\n",
      "Function output consists of floats\n",
      "The elements of the function output are in the correct range\n",
      "\n",
      "2 out of 2\n"
     ]
    },
    {
     "data": {
      "text/plain": [
       "2"
      ]
     },
     "execution_count": 12,
     "metadata": {},
     "output_type": "execute_result"
    }
   ],
   "source": [
    "# 2 Marks\n",
    "# Do not try to delete this cell\n",
    "# Run this cell for grading\n",
    "_globals = globals()\n",
    "question1e(_globals)"
   ]
  },
  {
   "cell_type": "markdown",
   "id": "failing-quality",
   "metadata": {
    "deletable": false,
    "editable": false,
    "nbgrader": {
     "cell_type": "markdown",
     "checksum": "3ac5f58be1dc40e8cee9f428c1f416c5",
     "grade": false,
     "grade_id": "cell-ff83abef544ce84a",
     "locked": true,
     "schema_version": 3,
     "solution": false,
     "task": false
    }
   },
   "source": [
    "(f) Write and test a function called `rowmeanshist` which takes as its arguments two positive integers `nrows` and `ncols`, and generates a histogram of `rowmeans(nrows, ncols)`."
   ]
  },
  {
   "cell_type": "code",
   "execution_count": 13,
   "id": "quantitative-archive",
   "metadata": {
    "deletable": false,
    "nbgrader": {
     "cell_type": "code",
     "checksum": "2fbc0a4b2a34d669f232651de522dac3",
     "grade": false,
     "grade_id": "cell-bd17254127375e4a",
     "locked": false,
     "schema_version": 3,
     "solution": true,
     "task": false
    }
   },
   "outputs": [
    {
     "name": "stdout",
     "output_type": "stream",
     "text": [
      "(array([44, 30, 46, 44, 24, 41, 43, 40, 42, 46], dtype=int64), array([1.94943560e-04, 9.99657835e-02, 1.99736623e-01, 2.99507463e-01,\n",
      "       3.99278303e-01, 4.99049143e-01, 5.98819983e-01, 6.98590823e-01,\n",
      "       7.98361663e-01, 8.98132503e-01, 9.97903343e-01]))\n",
      "\n",
      "(array([64, 87, 78, 76, 91, 90, 69, 87, 84, 74], dtype=int64), array([9.32522620e-04, 1.00573193e-01, 2.00213864e-01, 2.99854534e-01,\n",
      "       3.99495205e-01, 4.99135875e-01, 5.98776546e-01, 6.98417216e-01,\n",
      "       7.98057887e-01, 8.97698558e-01, 9.97339228e-01]))\n",
      "\n",
      "(array([178, 160, 152, 160, 174, 152, 165, 154, 161, 144], dtype=int64), array([2.50164000e-04, 1.00171253e-01, 2.00092341e-01, 3.00013430e-01,\n",
      "       3.99934518e-01, 4.99855607e-01, 5.99776695e-01, 6.99697784e-01,\n",
      "       7.99618872e-01, 8.99539961e-01, 9.99461049e-01]))\n",
      "\n",
      "(array([338, 327, 304, 337, 328, 303, 307, 312, 327, 317], dtype=int64), array([8.89556178e-05, 1.00020610e-01, 1.99952264e-01, 2.99883919e-01,\n",
      "       3.99815573e-01, 4.99747227e-01, 5.99678882e-01, 6.99610536e-01,\n",
      "       7.99542191e-01, 8.99473845e-01, 9.99405499e-01]))\n",
      "\n",
      "(array([612, 626, 619, 644, 635, 629, 640, 692, 657, 646], dtype=int64), array([8.95527438e-06, 1.00004268e-01, 1.99999580e-01, 2.99994892e-01,\n",
      "       3.99990204e-01, 4.99985516e-01, 5.99980829e-01, 6.99976141e-01,\n",
      "       7.99971453e-01, 8.99966765e-01, 9.99962078e-01]))\n"
     ]
    }
   ],
   "source": [
    "def rowmeanhist(nrows, ncols):\n",
    "    rands = nrnd.random((nrows, ncols))\n",
    "    return np.histogram(rands)\n",
    "\n",
    "\n",
    "print(\n",
    "    \"\\n\\n\".join([str(rowmeanhist(400, x)) for x in [1,2,4,8,16]])\n",
    ")\n",
    "\n"
   ]
  },
  {
   "cell_type": "markdown",
   "id": "progressive-contrary",
   "metadata": {
    "deletable": false,
    "editable": false,
    "nbgrader": {
     "cell_type": "markdown",
     "checksum": "a0dd10ff6eed1531be251b9f41ff77d8",
     "grade": false,
     "grade_id": "cell-a7499617da2c7513",
     "locked": true,
     "schema_version": 3,
     "solution": false,
     "task": false
    }
   },
   "source": [
    "(g) Using your function investigate the distributions of the means for `nrows` equal to 400 and `ncols` equal to 1, 2, 4, 8 and 16.\n",
    "\n",
    "Which of the following statements is true?\n",
    "\n",
    "I. As the number of columns increases, the mean tends to increase.<br/>\n",
    "II. As the number of columns increases, the means tend to vary less.<br/>\n",
    "III. As the number of columns increases, the distribution of the means becomes more approximately normal.<br/>\n",
    "\n",
    "1. All of them.\n",
    "2. All of them except I.\n",
    "3. All of them except II.\n",
    "4. All of them except III."
   ]
  },
  {
   "cell_type": "code",
   "execution_count": 14,
   "id": "warming-specific",
   "metadata": {
    "deletable": false,
    "nbgrader": {
     "cell_type": "code",
     "checksum": "aeb30b91baac0ab9d338d3dbafb107fd",
     "grade": false,
     "grade_id": "cell-48bf614b9017ac21",
     "locked": false,
     "schema_version": 3,
     "solution": true,
     "task": false
    }
   },
   "outputs": [
    {
     "name": "stdout",
     "output_type": "stream",
     "text": [
      "2\n"
     ]
    }
   ],
   "source": [
    "print(question1g())\n",
    "# it's 2 - but why???\n",
    "\n",
    "question1g_answer = 2"
   ]
  },
  {
   "cell_type": "code",
   "execution_count": 15,
   "id": "subtle-scoop",
   "metadata": {
    "deletable": false,
    "editable": false,
    "nbgrader": {
     "cell_type": "code",
     "checksum": "644478701c4d269e0be040cb2b371eaa",
     "grade": true,
     "grade_id": "cell-bb217909883073ea",
     "locked": true,
     "points": 1,
     "schema_version": 3,
     "solution": false,
     "task": false
    }
   },
   "outputs": [
    {
     "name": "stdout",
     "output_type": "stream",
     "text": [
      "test case passed!\n"
     ]
    }
   ],
   "source": [
    "# 1 Mark\n",
    "assert(question1g_answer == question1g())\n",
    "print('test case passed!')"
   ]
  },
  {
   "cell_type": "markdown",
   "id": "gross-shield",
   "metadata": {
    "deletable": false,
    "editable": false,
    "nbgrader": {
     "cell_type": "markdown",
     "checksum": "0d6b321b8eb52d5ffdc8b57362fae9ae",
     "grade": false,
     "grade_id": "cell-ad0c1460175a5224",
     "locked": true,
     "schema_version": 3,
     "solution": false,
     "task": false
    }
   },
   "source": [
    "## Question 2\n",
    "\n",
    "(a) Define both `x_values1` and `y_values1` as 1D NumPy arrays of 25 equally-spaced floats between $-1.2$ and $1.2$ inclusive, and use the `meshgrid` function to define `x1` and `y1` as 25-by-25 arrays of, respectively, $x$- and $y$-coordinates specifying a lattice in the plane."
   ]
  },
  {
   "cell_type": "code",
   "execution_count": 19,
   "id": "irish-story",
   "metadata": {
    "deletable": false,
    "nbgrader": {
     "cell_type": "code",
     "checksum": "9340ecf9c64052879a64f9cb554d5dd8",
     "grade": false,
     "grade_id": "cell-08956e751f87f27e",
     "locked": false,
     "schema_version": 3,
     "solution": true,
     "task": false
    }
   },
   "outputs": [],
   "source": [
    "x_values1 = np.linspace(-1.2, 1.2, 25)\n",
    "y_values1 = np.linspace(-1.2, 1.2, 25)\n",
    "\n",
    "x1, y1 = np.meshgrid(x_values1, y_values1)\n",
    "\n",
    "# I don't think it's worth printing these values; you may disagree!"
   ]
  },
  {
   "cell_type": "code",
   "execution_count": 17,
   "id": "blessed-junction",
   "metadata": {
    "deletable": false,
    "editable": false,
    "nbgrader": {
     "cell_type": "code",
     "checksum": "b5f79b39527029af5ee4d17246fd5596",
     "grade": true,
     "grade_id": "cell-6f64349f1b251f07",
     "locked": true,
     "points": 2,
     "schema_version": 3,
     "solution": false,
     "task": false
    }
   },
   "outputs": [
    {
     "name": "stdout",
     "output_type": "stream",
     "text": [
      "x_values1 and y_values1 defined correctly\n",
      "x1 and y1 defined correctly\n",
      "\n",
      "2 out of 2\n"
     ]
    },
    {
     "data": {
      "text/plain": [
       "2"
      ]
     },
     "execution_count": 17,
     "metadata": {},
     "output_type": "execute_result"
    }
   ],
   "source": [
    "# 2 Marks\n",
    "# Do not try to delete this cell\n",
    "# Run this cell for grading\n",
    "_globals = globals()\n",
    "question2a(_globals)"
   ]
  },
  {
   "cell_type": "markdown",
   "id": "seasonal-import",
   "metadata": {
    "deletable": false,
    "editable": false,
    "nbgrader": {
     "cell_type": "markdown",
     "checksum": "4cd29d2b4dc11114857aba98b42289ba",
     "grade": false,
     "grade_id": "cell-ac908613e716fd99",
     "locked": true,
     "schema_version": 3,
     "solution": false,
     "task": false
    }
   },
   "source": [
    "(b) Use the `imshow` function from `matplotlib.pyplot` to create, on two separate pairs of axes, visualisations of the functions\n",
    "\n",
    "$$u(x,y) = x^4-6\\,x^2\\,y^2+y^4$$\n",
    "and\n",
    "$$v(x,y) = 4\\,x^3\\,y-4\\,x\\,y^3$$\n",
    "on the points of this lattice.\n",
    "\n",
    "(Autograding won't be able to help much here.)\n",
    "\n",
    "[Mathematical note: these are, respectively, the real and imaginary parts of $(x+i\\,y)^4$, where $x$ and $y$ are real.]"
   ]
  },
  {
   "cell_type": "code",
   "execution_count": 37,
   "id": "pacific-composer",
   "metadata": {
    "deletable": false,
    "nbgrader": {
     "cell_type": "code",
     "checksum": "859c0afe40fc8ad57fcb5c61331163cb",
     "grade": false,
     "grade_id": "cell-999f26a0d59f1ac3",
     "locked": false,
     "schema_version": 3,
     "solution": true,
     "task": false
    }
   },
   "outputs": [
    {
     "data": {
      "text/plain": [
       "<matplotlib.image.AxesImage at 0x189c88fcaf0>"
      ]
     },
     "execution_count": 37,
     "metadata": {},
     "output_type": "execute_result"
    },
    {
     "data": {
      "image/png": "[encoded data removed]",
      "text/plain": [
       "<Figure size 640x480 with 1 Axes>"
      ]
     },
     "metadata": {},
     "output_type": "display_data"
    }
   ],
   "source": [
    "u = x1**4 - 6 * x1**2 * y1**2 + y1**4\n",
    "\n",
    "plt.imshow(u)"
   ]
  },
  {
   "cell_type": "code",
   "execution_count": 36,
   "id": "indie-vegetation",
   "metadata": {
    "deletable": false,
    "nbgrader": {
     "cell_type": "code",
     "checksum": "2fc3f6f193683f639a1187f00a9b22d2",
     "grade": false,
     "grade_id": "cell-b9e9238ad749ec25",
     "locked": false,
     "schema_version": 3,
     "solution": true,
     "task": false
    }
   },
   "outputs": [
    {
     "data": {
      "text/plain": [
       "<matplotlib.image.AxesImage at 0x189c889cd30>"
      ]
     },
     "execution_count": 36,
     "metadata": {},
     "output_type": "execute_result"
    },
    {
     "data": {
      "image/png": "[encoded data removed]",
      "text/plain": [
       "<Figure size 640x480 with 1 Axes>"
      ]
     },
     "metadata": {},
     "output_type": "display_data"
    }
   ],
   "source": [
    "v = 4 * x1**3 * y1 - 4 * x1 * y1 **3\n",
    "\n",
    "plt.imshow(v)"
   ]
  },
  {
   "cell_type": "markdown",
   "id": "jewish-effort",
   "metadata": {
    "deletable": false,
    "editable": false,
    "nbgrader": {
     "cell_type": "markdown",
     "checksum": "9acf8866949cf3ada7c41b28d5688095",
     "grade": false,
     "grade_id": "cell-582ae8fb42effb67",
     "locked": true,
     "schema_version": 3,
     "solution": false,
     "task": false
    }
   },
   "source": [
    "(c) Repeat parts (a) and (b), but this time use `x_values2` and `y_values2`, which you should define as 1D arrays of 121 equally-spaced floats between $-1.2$ and $1.2$ inclusive (and then go on to define `x2` and `y2` accordingly). This should create higher-resolution plots. \n",
    "\n",
    "(Again, autograding won't help you with the plots!)"
   ]
  },
  {
   "cell_type": "code",
   "execution_count": 38,
   "id": "printable-saver",
   "metadata": {
    "deletable": false,
    "nbgrader": {
     "cell_type": "code",
     "checksum": "d1c6ae8e313c2c2b99881f86e2c1ba6c",
     "grade": false,
     "grade_id": "cell-3f2ed706aefec34b",
     "locked": false,
     "schema_version": 3,
     "solution": true,
     "task": false
    }
   },
   "outputs": [],
   "source": [
    "# Cell for setting up variables\n",
    "\n",
    "x_values2 = np.linspace(-1.2, 1.2, 121)\n",
    "y_values2 = np.linspace(-1.2, 1.2, 121)\n",
    "\n",
    "x2, y2 = np.meshgrid(x_values2, y_values2)\n",
    "\n",
    "# I don't think it's worth printing these values; you may disagree!"
   ]
  },
  {
   "cell_type": "code",
   "execution_count": 39,
   "id": "legendary-typing",
   "metadata": {
    "deletable": false,
    "editable": false,
    "nbgrader": {
     "cell_type": "code",
     "checksum": "dc074a48d37c2f105eaffb9c41a74cb0",
     "grade": true,
     "grade_id": "cell-650df88834e1db45",
     "locked": true,
     "points": 2,
     "schema_version": 3,
     "solution": false,
     "task": false
    }
   },
   "outputs": [
    {
     "name": "stdout",
     "output_type": "stream",
     "text": [
      "x_values2 and y_values2 defined correctly\n",
      "x2 and y2 defined correctly\n",
      "\n",
      "2 out of 2\n"
     ]
    },
    {
     "data": {
      "text/plain": [
       "2"
      ]
     },
     "execution_count": 39,
     "metadata": {},
     "output_type": "execute_result"
    }
   ],
   "source": [
    "# 2 Marks\n",
    "# Do not try to delete this cell\n",
    "# Run this cell for grading\n",
    "_globals = globals()\n",
    "question2c(_globals)"
   ]
  },
  {
   "cell_type": "code",
   "execution_count": 43,
   "id": "quick-niagara",
   "metadata": {
    "deletable": false,
    "nbgrader": {
     "cell_type": "code",
     "checksum": "30a225c0241069d663bff51ad570aa0e",
     "grade": false,
     "grade_id": "cell-f93ed31b5fdc38b6",
     "locked": false,
     "schema_version": 3,
     "solution": true,
     "task": false
    }
   },
   "outputs": [
    {
     "data": {
      "text/plain": [
       "<matplotlib.image.AxesImage at 0x189c837bd00>"
      ]
     },
     "execution_count": 43,
     "metadata": {},
     "output_type": "execute_result"
    },
    {
     "data": {
      "image/png": "[encoded data removed]",
      "text/plain": [
       "<Figure size 640x480 with 1 Axes>"
      ]
     },
     "metadata": {},
     "output_type": "display_data"
    }
   ],
   "source": [
    "# Cell for first plot\n",
    "\n",
    "u = x2**4 - 6 * x2**2 * y2**2 + y2**4\n",
    "\n",
    "plt.imshow(u)"
   ]
  },
  {
   "cell_type": "code",
   "execution_count": 42,
   "id": "hollow-report",
   "metadata": {
    "deletable": false,
    "nbgrader": {
     "cell_type": "code",
     "checksum": "bde650daf3d05aa28172ec6c9161ea80",
     "grade": false,
     "grade_id": "cell-58cb28ff7d8687c1",
     "locked": false,
     "schema_version": 3,
     "solution": true,
     "task": false
    }
   },
   "outputs": [
    {
     "data": {
      "text/plain": [
       "<matplotlib.image.AxesImage at 0x189c82f7580>"
      ]
     },
     "execution_count": 42,
     "metadata": {},
     "output_type": "execute_result"
    },
    {
     "data": {
      "image/png": "[encoded data removed]",
      "text/plain": [
       "<Figure size 640x480 with 1 Axes>"
      ]
     },
     "metadata": {},
     "output_type": "display_data"
    }
   ],
   "source": [
    "# Cell for second plot\n",
    "\n",
    "v = 4 * x2**3 * y2 - 4 * x2 * y2 **3\n",
    "\n",
    "plt.imshow(v)"
   ]
  },
  {
   "cell_type": "markdown",
   "id": "agricultural-tiger",
   "metadata": {
    "deletable": false,
    "editable": false,
    "nbgrader": {
     "cell_type": "markdown",
     "checksum": "b4cff5706eaa04ce92ff7bc58809d582",
     "grade": false,
     "grade_id": "cell-d418173e03091553",
     "locked": true,
     "schema_version": 3,
     "solution": false,
     "task": false
    }
   },
   "source": [
    "(d) Create, on the same pair of axes, contour plots of $u(x,y)$ (in blue) and $v(x,y)$ (in red). Use `x2` and `y2`, and make the scales on both axes equal."
   ]
  },
  {
   "cell_type": "code",
   "execution_count": 50,
   "id": "496d80b1-5b16-4ed4-9767-dae4b0bcf10e",
   "metadata": {},
   "outputs": [
    {
     "data": {
      "text/plain": [
       "array([[-1.2 , -1.18, -1.16, ...,  1.16,  1.18,  1.2 ],\n",
       "       [-1.2 , -1.18, -1.16, ...,  1.16,  1.18,  1.2 ],\n",
       "       [-1.2 , -1.18, -1.16, ...,  1.16,  1.18,  1.2 ],\n",
       "       ...,\n",
       "       [-1.2 , -1.18, -1.16, ...,  1.16,  1.18,  1.2 ],\n",
       "       [-1.2 , -1.18, -1.16, ...,  1.16,  1.18,  1.2 ],\n",
       "       [-1.2 , -1.18, -1.16, ...,  1.16,  1.18,  1.2 ]])"
      ]
     },
     "execution_count": 50,
     "metadata": {},
     "output_type": "execute_result"
    }
   ],
   "source": [
    "x2"
   ]
  },
  {
   "cell_type": "code",
   "execution_count": 47,
   "id": "constitutional-cooper",
   "metadata": {
    "deletable": false,
    "nbgrader": {
     "cell_type": "code",
     "checksum": "87bbb484c0f7572f68a00adb57a231bb",
     "grade": false,
     "grade_id": "cell-b63bc1e74636097d",
     "locked": false,
     "schema_version": 3,
     "solution": true,
     "task": false
    }
   },
   "outputs": [
    {
     "data": {
      "text/plain": [
       "<matplotlib.contour.QuadContourSet at 0x189cb7fc850>"
      ]
     },
     "execution_count": 53,
     "metadata": {},
     "output_type": "execute_result"
    },
    {
     "data": {
      "image/png": "[encoded data removed]",
      "text/plain": [
       "<Figure size 640x480 with 1 Axes>"
      ]
     },
     "metadata": {},
     "output_type": "display_data"
    }
   ],
   "source": [
    "fig, ax = plt.subplots()\n",
    "ax.contour(x2, y2, u, colors=['blue'], X = x2, Y = y2)\n",
    "ax.contour(x2, y2, v, colors=['red'])"
   ]
  },
  {
   "cell_type": "markdown",
   "id": "future-privilege",
   "metadata": {
    "deletable": false,
    "editable": false,
    "nbgrader": {
     "cell_type": "markdown",
     "checksum": "70e9c8bbb5ef34a7023e11b720606baa",
     "grade": false,
     "grade_id": "cell-92188fc2d0ea78d0",
     "locked": true,
     "schema_version": 3,
     "solution": false,
     "task": false
    }
   },
   "source": [
    "(e) Which of the following is consistent with your diagram?\n",
    "\n",
    "<ol>\n",
    "    <li>The contours of ${\\rm Re}\\left((x+i\\,y)^4\\right)$ and ${\\rm Im}\\left((x+i\\,y)^4\\right)$ intersect at right angles everywhere.</li>\n",
    "    <li>The contours of ${\\rm Re}\\left((x+i\\,y)^4\\right)$ and ${\\rm Im}\\left((x+i\\,y)^4\\right)$ intersect at right angles everywhere except at $(x+i\\,y)=0$.</li>\n",
    "    <li>The contours of ${\\rm Re}\\left((x+i\\,y)^4\\right)$ and ${\\rm Im}\\left((x+i\\,y)^4\\right)$ do not in general intersect at right angles.</li>\n",
    "</ol>"
   ]
  },
  {
   "cell_type": "code",
   "execution_count": 48,
   "id": "alpine-notion",
   "metadata": {
    "deletable": false,
    "nbgrader": {
     "cell_type": "code",
     "checksum": "5569d508c17ccf1386b83220b0bc3944",
     "grade": false,
     "grade_id": "cell-336d594baf119478",
     "locked": false,
     "schema_version": 3,
     "solution": true,
     "task": false
    }
   },
   "outputs": [],
   "source": [
    "question2e_answer = 2"
   ]
  },
  {
   "cell_type": "code",
   "execution_count": 49,
   "id": "unlike-apparatus",
   "metadata": {
    "deletable": false,
    "editable": false,
    "nbgrader": {
     "cell_type": "code",
     "checksum": "dc9fdbcd3158ee1b88ee6dd35701c7c3",
     "grade": true,
     "grade_id": "cell-aadae8f086ef3bde",
     "locked": true,
     "points": 1,
     "schema_version": 3,
     "solution": false,
     "task": false
    }
   },
   "outputs": [
    {
     "name": "stdout",
     "output_type": "stream",
     "text": [
      "test case passed!\n"
     ]
    }
   ],
   "source": [
    "# 1 Mark\n",
    "assert(question2e_answer == question2e())\n",
    "print('test case passed!')"
   ]
  },
  {
   "cell_type": "markdown",
   "id": "constant-schedule",
   "metadata": {
    "deletable": false,
    "editable": false,
    "nbgrader": {
     "cell_type": "markdown",
     "checksum": "dbd7c52297bc89f239637feedd857fac",
     "grade": false,
     "grade_id": "cell-8dd392025c3c1ed1",
     "locked": true,
     "schema_version": 3,
     "solution": false,
     "task": false
    }
   },
   "source": [
    "(f) Create, on the same pair of axes, a diagram consisting of the contours of $v(x,y)$, obtained using `x2` and `y2`, on which is superimposed a quiver plot of the vector field \n",
    "$$\\left(\\frac{\\partial v}{\\partial x},\\frac{\\partial v}{\\partial y}\\right),$$\n",
    "obtained using the coarser-grained `x1` and `y1`. Show the former in blue and the latter in red. Make the scale the same on both axes.\n",
    "\n",
    "[Note: it's probably easiest to do the differentiations by hand, though you're welcome to use SymPy if you like.]"
   ]
  },
  {
   "cell_type": "code",
   "execution_count": null,
   "id": "complex-shoulder",
   "metadata": {
    "deletable": false,
    "nbgrader": {
     "cell_type": "code",
     "checksum": "0bd9c1e6fe0585ea5637cc1f6f8e1fbb",
     "grade": false,
     "grade_id": "cell-b0554a745e8b4bdb",
     "locked": false,
     "schema_version": 3,
     "solution": true,
     "task": false
    }
   },
   "outputs": [],
   "source": [
    "fig, ax = plt.sublots()"
   ]
  },
  {
   "cell_type": "markdown",
   "id": "coated-concord",
   "metadata": {
    "deletable": false,
    "editable": false,
    "nbgrader": {
     "cell_type": "markdown",
     "checksum": "a3b6c6f302834ad6082ebbd2bd461036",
     "grade": false,
     "grade_id": "cell-c69ef03e399e437b",
     "locked": true,
     "schema_version": 3,
     "solution": false,
     "task": false
    }
   },
   "source": [
    "(g) Create, on the same pair of axes, a diagram consisting of the contours of $v(x,y)$, obtained using `x2` and `y2`, on which is superimposed a quiver plot of the vector field \n",
    "$$\\left(\\frac{\\partial u}{\\partial x},\\frac{\\partial u}{\\partial y}\\right),$$\n",
    "obtained using the coarser-grained `x1` and `y1`. Show the former in blue and the latter in red. Make the scale the same on both axes.\n",
    "\n",
    "[Note: this isn't a typo; I really do mean to use $v$ for the contour plot and $u$ for the quiver plot here.]"
   ]
  },
  {
   "cell_type": "code",
   "execution_count": null,
   "id": "educated-vehicle",
   "metadata": {
    "deletable": false,
    "nbgrader": {
     "cell_type": "code",
     "checksum": "55c1729edea3a4bde40e01dc51b9e6ae",
     "grade": false,
     "grade_id": "cell-c3cc1ae42fcc34a9",
     "locked": false,
     "schema_version": 3,
     "solution": true,
     "task": false
    }
   },
   "outputs": [],
   "source": [
    "# YOUR CODE HERE\n",
    "raise NotImplementedError()"
   ]
  },
  {
   "cell_type": "markdown",
   "id": "following-lover",
   "metadata": {
    "deletable": false,
    "editable": false,
    "nbgrader": {
     "cell_type": "markdown",
     "checksum": "d93a25ac19da69406e7cf1923650eb4d",
     "grade": false,
     "grade_id": "cell-0c3696962b59e74e",
     "locked": true,
     "schema_version": 3,
     "solution": false,
     "task": false
    }
   },
   "source": [
    "(h) Create on separate sets of axes, using 3D projections, a wireframe plot, a surface plot and a 3D contour plot of $v(x, y)$.  In each case, use the finer-grained versions of the data."
   ]
  },
  {
   "cell_type": "code",
   "execution_count": null,
   "id": "contemporary-profit",
   "metadata": {
    "deletable": false,
    "nbgrader": {
     "cell_type": "code",
     "checksum": "303676049e34d55aa060b786fb02ed19",
     "grade": false,
     "grade_id": "cell-61d50292422b38ae",
     "locked": false,
     "schema_version": 3,
     "solution": true,
     "task": false
    }
   },
   "outputs": [],
   "source": [
    "# Cell for first plot\n",
    "# YOUR CODE HERE\n",
    "raise NotImplementedError()"
   ]
  },
  {
   "cell_type": "code",
   "execution_count": null,
   "id": "valuable-turkey",
   "metadata": {
    "deletable": false,
    "nbgrader": {
     "cell_type": "code",
     "checksum": "dba38269a85d53e5f36f7c5a3b562ab7",
     "grade": false,
     "grade_id": "cell-4610a5d614edfa07",
     "locked": false,
     "schema_version": 3,
     "solution": true,
     "task": false
    }
   },
   "outputs": [],
   "source": [
    "# Cell for second plot\n",
    "# YOUR CODE HERE\n",
    "raise NotImplementedError()"
   ]
  },
  {
   "cell_type": "code",
   "execution_count": null,
   "id": "stuck-livestock",
   "metadata": {
    "deletable": false,
    "nbgrader": {
     "cell_type": "code",
     "checksum": "42b8d6508019d782afe6bccb0212eae2",
     "grade": false,
     "grade_id": "cell-91bd12f9150c8117",
     "locked": false,
     "schema_version": 3,
     "solution": true,
     "task": false
    }
   },
   "outputs": [],
   "source": [
    "# Cell for third plot\n",
    "# YOUR CODE HERE\n",
    "raise NotImplementedError()"
   ]
  },
  {
   "cell_type": "markdown",
   "id": "hired-shooting",
   "metadata": {
    "deletable": false,
    "editable": false,
    "nbgrader": {
     "cell_type": "markdown",
     "checksum": "405fb8575ad7f697e5adc9cd704f9e19",
     "grade": false,
     "grade_id": "cell-da779c119900b13c",
     "locked": true,
     "schema_version": 3,
     "solution": false,
     "task": false
    }
   },
   "source": [
    "## Question 3\n",
    "\n",
    "(a) Define\n",
    "```python\n",
    "n = 10\n",
    "p = 0.3\n",
    "```\n",
    "\n",
    "Then define `r` as a 1D array consisting of the integers between 0 and `n` inclusive."
   ]
  },
  {
   "cell_type": "code",
   "execution_count": null,
   "id": "humanitarian-incentive",
   "metadata": {
    "deletable": false,
    "nbgrader": {
     "cell_type": "code",
     "checksum": "c8895d6f07984172831253b5954f3342",
     "grade": false,
     "grade_id": "cell-0d14e655b59b9cee",
     "locked": false,
     "schema_version": 3,
     "solution": true,
     "task": false
    }
   },
   "outputs": [],
   "source": [
    "# YOUR CODE HERE\n",
    "raise NotImplementedError()\n",
    "print(n)\n",
    "print(p)\n",
    "print(r)"
   ]
  },
  {
   "cell_type": "code",
   "execution_count": null,
   "id": "champion-financing",
   "metadata": {
    "deletable": false,
    "editable": false,
    "nbgrader": {
     "cell_type": "code",
     "checksum": "12275a7009b4f3644b8c94ba14842339",
     "grade": true,
     "grade_id": "cell-de68806389692a9b",
     "locked": true,
     "points": 2,
     "schema_version": 3,
     "solution": false,
     "task": false
    }
   },
   "outputs": [],
   "source": [
    "# 2 Marks\n",
    "# Do not try to delete this cell\n",
    "# Run this cell for grading\n",
    "_globals = globals()\n",
    "question3a(_globals)"
   ]
  },
  {
   "cell_type": "markdown",
   "id": "through-evanescence",
   "metadata": {
    "deletable": false,
    "editable": false,
    "nbgrader": {
     "cell_type": "markdown",
     "checksum": "98c212555e434e69c930a027451c0aac",
     "grade": false,
     "grade_id": "cell-5fc2371c623c3f16",
     "locked": true,
     "schema_version": 3,
     "solution": false,
     "task": false
    }
   },
   "source": [
    "(b) Using `numpy`'s `cumprod` function, or otherwise, define `rfac` as a 1D array consisting of the integers $0!, 1!, 2!, \\dots n!$, and `nmrfac` as a 1D array consisting of the integers $n!, (n-1)!, (n-2)!, \\dots, 0!$."
   ]
  },
  {
   "cell_type": "code",
   "execution_count": null,
   "id": "turkish-burden",
   "metadata": {
    "deletable": false,
    "nbgrader": {
     "cell_type": "code",
     "checksum": "0a425dc58bcd23e456b2c81757aefc77",
     "grade": false,
     "grade_id": "cell-5b04f8de66d3d075",
     "locked": false,
     "schema_version": 3,
     "solution": true,
     "task": false
    }
   },
   "outputs": [],
   "source": [
    "# YOUR CODE HERE\n",
    "raise NotImplementedError()\n",
    "print(rfac)\n",
    "print(nmrfac)"
   ]
  },
  {
   "cell_type": "code",
   "execution_count": null,
   "id": "smaller-chair",
   "metadata": {
    "deletable": false,
    "editable": false,
    "nbgrader": {
     "cell_type": "code",
     "checksum": "b4a4aa1d54aecb8357a4a9213bdc0824",
     "grade": true,
     "grade_id": "cell-ccee552c5ba065e3",
     "locked": true,
     "points": 2,
     "schema_version": 3,
     "solution": false,
     "task": false
    }
   },
   "outputs": [],
   "source": [
    "# 2 Marks\n",
    "# Do not try to delete this cell\n",
    "# Run this cell for grading\n",
    "_globals = globals()\n",
    "question3b(_globals)"
   ]
  },
  {
   "cell_type": "markdown",
   "id": "stunning-jason",
   "metadata": {
    "deletable": false,
    "editable": false,
    "nbgrader": {
     "cell_type": "markdown",
     "checksum": "5e0d0041ac1513ed54b7d7288177fae7",
     "grade": false,
     "grade_id": "cell-baa344d917768ccc",
     "locked": true,
     "schema_version": 3,
     "solution": false,
     "task": false
    }
   },
   "source": [
    "(c) Using `rfac` and `nmrfac`, or otherwise, define `bincoef` as a 1D array consisting of the binomial coefficients\n",
    "\n",
    "$$\\frac{n!}{0!\\,n!},\\frac{n!}{1!\\,(n-1)!},\\frac{n!}{2!\\,(n-2)!},\\dots,\\frac{n!}{n!\\,0!}.$$\n",
    "\n",
    "Then define `binprob` as a 1D array of floats, consisting of all the values of\n",
    "$$\\frac{n!}{r!\\,(n-r)!}\\,p^r\\,(1-p)^{n-r}$$\n",
    "for $r = 0,1,2,\\dots,n.$"
   ]
  },
  {
   "cell_type": "code",
   "execution_count": null,
   "id": "integrated-duncan",
   "metadata": {
    "deletable": false,
    "nbgrader": {
     "cell_type": "code",
     "checksum": "5750ae382f188344216c9aaea19ac097",
     "grade": false,
     "grade_id": "cell-150814d418bbdee1",
     "locked": false,
     "schema_version": 3,
     "solution": true,
     "task": false
    }
   },
   "outputs": [],
   "source": [
    "# YOUR CODE HERE\n",
    "raise NotImplementedError()\n",
    "print(bincoef)\n",
    "print(binprob)"
   ]
  },
  {
   "cell_type": "code",
   "execution_count": null,
   "id": "identified-routine",
   "metadata": {
    "deletable": false,
    "editable": false,
    "nbgrader": {
     "cell_type": "code",
     "checksum": "5ea26ddfc0ce2064ed8095482839fb34",
     "grade": true,
     "grade_id": "cell-079d267bcc0da88a",
     "locked": true,
     "points": 2,
     "schema_version": 3,
     "solution": false,
     "task": false
    }
   },
   "outputs": [],
   "source": [
    "# 2 Marks\n",
    "# Do not try to delete this cell\n",
    "# Run this cell for grading\n",
    "_globals = globals()\n",
    "question3c(_globals)"
   ]
  },
  {
   "cell_type": "markdown",
   "id": "lucky-basin",
   "metadata": {
    "deletable": false,
    "editable": false,
    "nbgrader": {
     "cell_type": "markdown",
     "checksum": "448b148892006cfc54341ed5b000a636",
     "grade": false,
     "grade_id": "cell-3b6175195adac75c",
     "locked": true,
     "schema_version": 3,
     "solution": false,
     "task": false
    }
   },
   "source": [
    "(d) Create, on the same pair of axes, a blue line plot of `binprob` (on the vertical axis) against `r` (on the horizontal axis), a blue point plot of `prob` against `r` (with a nice big marker size like 10), and a red bar chart of `prob` against `r`. "
   ]
  },
  {
   "cell_type": "code",
   "execution_count": null,
   "id": "owned-triangle",
   "metadata": {
    "deletable": false,
    "nbgrader": {
     "cell_type": "code",
     "checksum": "c007bdfaa1d308cf1a3eef80330f407f",
     "grade": false,
     "grade_id": "cell-0e8447c361379dea",
     "locked": false,
     "schema_version": 3,
     "solution": true,
     "task": false
    }
   },
   "outputs": [],
   "source": [
    "# YOUR CODE HERE\n",
    "raise NotImplementedError()"
   ]
  },
  {
   "cell_type": "markdown",
   "id": "varied-basketball",
   "metadata": {
    "deletable": false,
    "editable": false,
    "nbgrader": {
     "cell_type": "markdown",
     "checksum": "84ef72f66554f75630482b60af730a0d",
     "grade": false,
     "grade_id": "cell-a0d74ebf855422b6",
     "locked": true,
     "schema_version": 3,
     "solution": false,
     "task": false
    }
   },
   "source": [
    "(e) Use the `binomial` function from NumPy's `random` submodule to create a sample `data100` of size 100 from the binomial distribution $B(n,p)$, with the above values of $n$ and $p$. Create, on the same pair of axes, a blue line plot of `binprob` (on the vertical axis) against `r` (on the horizontal axis), a blue point plot of `prob` against `r` (with a nice big marker size like 10), and a red <b>density histogram</b> of this data, using bin boundaries $-0.5, 0.5, 1.5, \\dots ,10.5$.\n",
    "\n",
    "Repeat for sample sizes of 1000 and 10000, calling your data `data1000` and `data10000`."
   ]
  },
  {
   "cell_type": "code",
   "execution_count": null,
   "id": "conservative-moore",
   "metadata": {
    "deletable": false,
    "nbgrader": {
     "cell_type": "code",
     "checksum": "494cbf024e616b5917db88d1ae018d70",
     "grade": false,
     "grade_id": "cell-e5d83668406c6e7f",
     "locked": false,
     "schema_version": 3,
     "solution": true,
     "task": false
    }
   },
   "outputs": [],
   "source": [
    "# Cell for first plot\n",
    "# YOUR CODE HERE\n",
    "raise NotImplementedError()"
   ]
  },
  {
   "cell_type": "code",
   "execution_count": null,
   "id": "approximate-pointer",
   "metadata": {
    "deletable": false,
    "editable": false,
    "nbgrader": {
     "cell_type": "code",
     "checksum": "c869dee1859a1db6c0ad8f93e41a3a9d",
     "grade": true,
     "grade_id": "cell-77f317c15e983e2a",
     "locked": true,
     "points": 1,
     "schema_version": 3,
     "solution": false,
     "task": false
    }
   },
   "outputs": [],
   "source": [
    "# For checking data100\n",
    "# 1 Mark\n",
    "# Do not try to delete this cell\n",
    "# Run this cell for grading\n",
    "_globals = globals()\n",
    "question3e1(_globals)"
   ]
  },
  {
   "cell_type": "code",
   "execution_count": null,
   "id": "experimental-savannah",
   "metadata": {
    "deletable": false,
    "nbgrader": {
     "cell_type": "code",
     "checksum": "671f553e635addf81579b0e32ab0bd46",
     "grade": false,
     "grade_id": "cell-81f94ed47c843470",
     "locked": false,
     "schema_version": 3,
     "solution": true,
     "task": false
    }
   },
   "outputs": [],
   "source": [
    "# Cell for second plot\n",
    "# YOUR CODE HERE\n",
    "raise NotImplementedError()"
   ]
  },
  {
   "cell_type": "code",
   "execution_count": null,
   "id": "encouraging-candy",
   "metadata": {
    "deletable": false,
    "editable": false,
    "nbgrader": {
     "cell_type": "code",
     "checksum": "b4d0b63b1be579e7e24c2ef6cb608db8",
     "grade": true,
     "grade_id": "cell-33fb77e5b1e40209",
     "locked": true,
     "points": 1,
     "schema_version": 3,
     "solution": false,
     "task": false
    }
   },
   "outputs": [],
   "source": [
    "# For checking data1000\n",
    "# 1 Mark\n",
    "# Do not try to delete this cell\n",
    "# Run this cell for grading\n",
    "_globals = globals()\n",
    "question3e2(_globals)"
   ]
  },
  {
   "cell_type": "code",
   "execution_count": null,
   "id": "critical-scottish",
   "metadata": {
    "deletable": false,
    "nbgrader": {
     "cell_type": "code",
     "checksum": "2ca441169ee01d8fd55be11a52257c91",
     "grade": false,
     "grade_id": "cell-1525f678157c898f",
     "locked": false,
     "schema_version": 3,
     "solution": true,
     "task": false
    }
   },
   "outputs": [],
   "source": [
    "# Cell for third plot\n",
    "# YOUR CODE HERE\n",
    "raise NotImplementedError()"
   ]
  },
  {
   "cell_type": "code",
   "execution_count": null,
   "id": "binding-barcelona",
   "metadata": {
    "deletable": false,
    "editable": false,
    "nbgrader": {
     "cell_type": "code",
     "checksum": "322faed13bf8a13d18d64e88ed51ff6c",
     "grade": true,
     "grade_id": "cell-a5fdc908c5c754fb",
     "locked": true,
     "points": 1,
     "schema_version": 3,
     "solution": false,
     "task": false
    }
   },
   "outputs": [],
   "source": [
    "# For checking data10000\n",
    "# 1 Mark\n",
    "# Do not try to delete this cell\n",
    "# Run this cell for grading\n",
    "_globals = globals()\n",
    "question3e3(_globals)"
   ]
  },
  {
   "cell_type": "markdown",
   "id": "level-alignment",
   "metadata": {
    "deletable": false,
    "editable": false,
    "nbgrader": {
     "cell_type": "markdown",
     "checksum": "8ad8df35fc6c9c0383175bdd38f3090b",
     "grade": false,
     "grade_id": "cell-a6bc75c443b724e3",
     "locked": true,
     "schema_version": 3,
     "solution": false,
     "task": false
    }
   },
   "source": [
    "# Question 4\n",
    "\n",
    "This question is about <b>iterated function systems</b>. An iterated function system consists of a finite list of functions from the plane to itself (or, more generally, from $n$-dimensional space to itself). A function is chosen at random from the list, and a starting pair of coordinates fed into it, produding a new pair of coordinates. This is fed into a freshly-chosen random function from the list, and so on, for a large number of iterations.\n",
    "\n",
    "In all the cases we shall consider, the functions will be <b>affine</b>: that is, each will consist of a linear transformation followed by a translation. The system can therefore be completely specified by $n$ transformation matrices and $n$ translation vectors.\n",
    "\n",
    "(a) Write and test a function called `ifs_step`. Your function should take as its arguments:\n",
    "<ul>\n",
    "    <li>a 3D NumPy array called <code>matrices</code>; the first dimension of this array will be some positive integer (let's call it $n$), and the other two dimensions will be 2; this array can therefore represent a list of $n$ matrices;</li>\n",
    "    <li>a 2D NumPy array called <code>vectors</code>; the first dimension will be the same as that of <code>matrices</code>, and the second will be 2; this array can therefore represent a list of $n$ vectors;</li>\n",
    "    <li>a 1D NumPy array of length 2 called <code>coords</code>.\n",
    "</ul>\n",
    "\n",
    "It should then:\n",
    "<ul>\n",
    "    <li>choose a random integer, <code>index</code>, between $0$ and $(n-1)$ inclusive;</li>\n",
    "    <li>set <code>mat</code> equal to the $(2\\times2)$ array given by <code>matrices[index,:,:]</code>;</li>\n",
    "    <li>set <code>vec</code> equal to the 1D array given by <code>vectors[index,:]</code>;</li>\n",
    "    <li>return the value of <code>dot(mat, coords) + vec</code>.</li>\n",
    "</ul>\n",
    "\n",
    "To test your function, try calculating\n",
    "```python\n",
    "ifs_step(mats, vecs, np.array([0.5,0.5]))\n",
    "```\n",
    "where `mats` and `vecs` are defined as follows:"
   ]
  },
  {
   "cell_type": "code",
   "execution_count": null,
   "id": "measured-fishing",
   "metadata": {
    "deletable": false,
    "editable": false,
    "nbgrader": {
     "cell_type": "code",
     "checksum": "1652f7cf81fd69ad89b635da76a78ce0",
     "grade": false,
     "grade_id": "cell-a1ef602bdb9b065a",
     "locked": true,
     "schema_version": 3,
     "solution": false,
     "task": false
    }
   },
   "outputs": [],
   "source": [
    "mat0 = np.array([[1.0,0.0],[0.0,1.0]])/3\n",
    "mat1 = np.array([[np.cos(np.pi/3),-np.sin(np.pi/3)],[np.sin(np.pi/3),np.cos(np.pi/3)]])/3\n",
    "mat2 = np.array([[np.cos(-np.pi/3),-np.sin(-np.pi/3)],[np.sin(-np.pi/3),np.cos(-np.pi/3)]])/3\n",
    "mat3 = np.array([[1.0,0.0],[0.0,1.0]])/3\n",
    "\n",
    "mats = np.array([mat0,mat1,mat2,mat3])\n",
    "\n",
    "vec0 = np.array([0.0,0.0])\n",
    "vec1 = np.array([1.0/3,0.0])\n",
    "vec2 = np.array([0.5,np.sqrt(3)/6])\n",
    "vec3 = np.array([2.0/3,0.0])\n",
    "\n",
    "vecs = np.array([vec0,vec1,vec2,vec3])"
   ]
  },
  {
   "cell_type": "code",
   "execution_count": null,
   "id": "powerful-chassis",
   "metadata": {
    "deletable": false,
    "nbgrader": {
     "cell_type": "code",
     "checksum": "03a92c82b686f9dbadc71a7e57c4f71a",
     "grade": false,
     "grade_id": "cell-908b7a8446becda5",
     "locked": false,
     "schema_version": 3,
     "solution": true,
     "task": false
    }
   },
   "outputs": [],
   "source": [
    "def ifs_step(matrices, vectors, coords):\n",
    "    # YOUR CODE HERE\n",
    "    raise NotImplementedError()"
   ]
  },
  {
   "cell_type": "code",
   "execution_count": null,
   "id": "convinced-sampling",
   "metadata": {
    "deletable": false,
    "editable": false,
    "nbgrader": {
     "cell_type": "code",
     "checksum": "f4c570f78a55fe418d0f408c1c01f9d4",
     "grade": true,
     "grade_id": "cell-cbbb42020161863b",
     "locked": true,
     "points": 1,
     "schema_version": 3,
     "solution": false,
     "task": false
    }
   },
   "outputs": [],
   "source": [
    "# 1 Mark\n",
    "# Do not try to delete this cell\n",
    "# Run this cell for grading\n",
    "_globals = globals()\n",
    "question4a(_globals)"
   ]
  },
  {
   "cell_type": "markdown",
   "id": "unsigned-assist",
   "metadata": {
    "deletable": false,
    "editable": false,
    "nbgrader": {
     "cell_type": "markdown",
     "checksum": "5b1cacfc233ee4adf5ef34503fff8eca",
     "grade": false,
     "grade_id": "cell-a7116e8e7681c818",
     "locked": true,
     "schema_version": 3,
     "solution": false,
     "task": false
    }
   },
   "source": [
    "(b) Write, and test on the same matrices and vectors as in part (a), a function called `iterate_ifs` which takes as its arguments `matrices`, `vectors`, an initial value `coords0` and non-negative ints `nskip` and `niterate`. It should then:\n",
    "\n",
    "<ul>\n",
    "    <li>iterate <code>ifs_step</code>, using these values of <code>matrices</code> and <code>vectors</code>, a total of <code>nskip</code> times, starting with <code>coords0</code>, and discarding all iterates except the most recent;</li>\n",
    "    <li>initialize <code>coords_array</code> as a $(1\\times2)$ array whose first and only row is the most recent iterate of <code>ifs_step</code>;</li>    \n",
    "    <li>iterate <code>ifs_step</code>, using these values of <code>matrices</code> and <code>vectors</code>, a total of <code>niterate</code> times, starting with that most recent iterate, and making each fresh iterate a new row of <code>coords_array</code>;</li>\n",
    "    <li>return the final value of <code>coords_array</code>, which should be a 2D array with dimensions <code>(niterate + 1)</code> by $2$.</li>\n",
    "</ul>"
   ]
  },
  {
   "cell_type": "code",
   "execution_count": null,
   "id": "loving-match",
   "metadata": {
    "deletable": false,
    "nbgrader": {
     "cell_type": "code",
     "checksum": "810a25ae8d854b55cfb596f81ce47a8e",
     "grade": false,
     "grade_id": "cell-5d14c0bc80e91162",
     "locked": false,
     "schema_version": 3,
     "solution": true,
     "task": false
    }
   },
   "outputs": [],
   "source": [
    "def iterate_ifs(matrices, vectors, coords0, nskip, niterate):\n",
    "    # YOUR CODE HERE\n",
    "    raise NotImplementedError()"
   ]
  },
  {
   "cell_type": "code",
   "execution_count": null,
   "id": "nominated-innocent",
   "metadata": {
    "deletable": false,
    "editable": false,
    "nbgrader": {
     "cell_type": "code",
     "checksum": "aa67df42f899f368464c877822b3623b",
     "grade": true,
     "grade_id": "cell-fe82c19cc4286df2",
     "locked": true,
     "points": 1,
     "schema_version": 3,
     "solution": false,
     "task": false
    }
   },
   "outputs": [],
   "source": [
    "# 1 Mark\n",
    "# Do not try to delete this cell\n",
    "# Run this cell for grading\n",
    "_globals = globals()\n",
    "question4b(_globals)"
   ]
  },
  {
   "cell_type": "markdown",
   "id": "temporal-atmosphere",
   "metadata": {
    "deletable": false,
    "editable": false,
    "nbgrader": {
     "cell_type": "markdown",
     "checksum": "bb38f952700643b64f46f0d5c30c96b4",
     "grade": false,
     "grade_id": "cell-cf3ba52035e5870d",
     "locked": true,
     "schema_version": 3,
     "solution": false,
     "task": false
    }
   },
   "source": [
    "(c) Write a function called `ifs_plot` which should take the same arguments as `iterate_ifs`, together with a keyword-only argument, `markersize`, with default value 0.5. It should then calculate the value of `iterate_ifs(matrices, vectors, coords0, nskip, niterate)`, as a 2D array with dimensions <code>(niterate + 1)</code> by $2$, and create a point plot using column 0 of this array for $x$-values, and column 1 for $y$-values. The marker size should be determined by the value of the keyword-only argument `markersize`. The figure size should be something sensible like 10 by 10, and the scales on the axes should be equal.\n",
    "\n",
    "Test your function using the matrices and vectors from part (a), with `nskip` set to 100 and `niterate` set to 10000. Choose a suitable marker size. Make the initial coordinates $(0.5, 0.5)$. Make the scales the same on both axes.\n",
    "\n",
    "Autograding will be no help here, but you ought to see quite an interesting plot."
   ]
  },
  {
   "cell_type": "code",
   "execution_count": null,
   "id": "military-insured",
   "metadata": {
    "deletable": false,
    "nbgrader": {
     "cell_type": "code",
     "checksum": "2908ef4a7c9d7e921e713824bd94e1a6",
     "grade": false,
     "grade_id": "cell-bc580958691bcd60",
     "locked": false,
     "schema_version": 3,
     "solution": true,
     "task": false
    }
   },
   "outputs": [],
   "source": [
    "def ifs_plot(matrices, vectors, coords0, nskip, niterate, *, markersize=0.5):\n",
    "    # YOUR CODE HERE\n",
    "    raise NotImplementedError()"
   ]
  },
  {
   "cell_type": "markdown",
   "id": "final-prefix",
   "metadata": {
    "deletable": false,
    "editable": false,
    "nbgrader": {
     "cell_type": "markdown",
     "checksum": "ce9dc9fdb47dff48fef9f4b84a8a2522",
     "grade": false,
     "grade_id": "cell-535f006f6ec08df5",
     "locked": true,
     "schema_version": 3,
     "solution": false,
     "task": false
    }
   },
   "source": [
    "(d) Amend your `ifs_step` function so that it accepts an optional, keyword-only argument, called `weights`, whose default value `None`. If the value of `weights` is `None`, your function should do exactly the same as before (though not necessarily in exactly the same way). \n",
    "\n",
    "But optionally, the user may give `weights` a <em>list</em> as its value, such as `[1, 4, 2, 2]`. If she does this, the choice of matrix and vector is made with <em>weighted probabilities</em>; in this case $1/9$, $4/9$, $2/9$ and $2/9$ respectively.\n",
    "\n",
    "Test your new function."
   ]
  },
  {
   "cell_type": "code",
   "execution_count": null,
   "id": "chronic-complement",
   "metadata": {
    "deletable": false,
    "nbgrader": {
     "cell_type": "code",
     "checksum": "c47bc6986c57e33d46d069c6c72ca062",
     "grade": false,
     "grade_id": "cell-331cb1647fe3fa18",
     "locked": false,
     "schema_version": 3,
     "solution": true,
     "task": false
    }
   },
   "outputs": [],
   "source": [
    "def ifs_step(matrices, vectors, coords, *, weights=None):\n",
    "    # YOUR CODE HERE\n",
    "    raise NotImplementedError()"
   ]
  },
  {
   "cell_type": "code",
   "execution_count": null,
   "id": "rental-pipeline",
   "metadata": {
    "deletable": false,
    "editable": false,
    "nbgrader": {
     "cell_type": "code",
     "checksum": "d11d49b6577d4cc8e4657f3bdab7caca",
     "grade": true,
     "grade_id": "cell-1bba6fa67d2c6e91",
     "locked": true,
     "points": 3,
     "schema_version": 3,
     "solution": false,
     "task": false
    }
   },
   "outputs": [],
   "source": [
    "# 3 Marks\n",
    "# Do not try to delete this cell\n",
    "# Run this cell for grading\n",
    "_globals = globals()\n",
    "question4d(_globals)"
   ]
  },
  {
   "cell_type": "markdown",
   "id": "lightweight-speech",
   "metadata": {
    "deletable": false,
    "editable": false,
    "nbgrader": {
     "cell_type": "markdown",
     "checksum": "e26ba0f256645b59ddac97f55bc3bc89",
     "grade": false,
     "grade_id": "cell-90967450e8de6505",
     "locked": true,
     "schema_version": 3,
     "solution": false,
     "task": false
    }
   },
   "source": [
    "(e) Amend your `iterate_ifs` and `ifs_plot` functions to accept and use the optional keyword-only argument `weights`, and test the latter using the transformation matrices\n",
    "\n",
    "$$\\left(\\begin{array}{cc}\n",
    "0.0&0.0\\\\0.0&0.16\\end{array}\\right),\n",
    "\\left(\\begin{array}{cc}\n",
    "0.85&0.04\\\\-0.04&0.85\\end{array}\\right),\n",
    "\\left(\\begin{array}{cc}\n",
    "0.20&-0.26\\\\0.23&0.22\\end{array}\\right),\n",
    "\\left(\\begin{array}{cc}\n",
    "-0.15&0.28\\\\0.26&0.24\\end{array}\\right)$$\n",
    "\n",
    "and the translation vectors\n",
    "\n",
    "$$\\left(\\begin{array}{c}\n",
    "0.0\\\\0.0\\end{array}\\right),\n",
    "\\left(\\begin{array}{c}\n",
    "0.0\\\\1.6\\end{array}\\right),\n",
    "\\left(\\begin{array}{c}\n",
    "0.0\\\\1.6\\end{array}\\right),\n",
    "\\left(\\begin{array}{c}\n",
    "0.0\\\\0.44\\end{array}\\right).$$\n",
    "\n",
    "The weights should be 1, 85, 7 and 7.\n",
    "\n",
    "Use an `nskip` value of 100, an `niterate` value of 50000 if you can (less if that takes ages). Again, the initial coordinates $(0.5, 0.5)$ should be fine.\n",
    "\n",
    "Autograding won't help with the final plot, but it ought to look really good."
   ]
  },
  {
   "cell_type": "code",
   "execution_count": null,
   "id": "diagnostic-cream",
   "metadata": {
    "deletable": false,
    "nbgrader": {
     "cell_type": "code",
     "checksum": "f45dd29ec7bff8300cacadb637a7d716",
     "grade": false,
     "grade_id": "cell-9da17aa155549a98",
     "locked": false,
     "schema_version": 3,
     "solution": true,
     "task": false
    }
   },
   "outputs": [],
   "source": [
    "def iterate_ifs(matrices, vectors, coords0, nskip, niterate, *, weights=None):\n",
    "    # YOUR CODE HERE\n",
    "    raise NotImplementedError()"
   ]
  },
  {
   "cell_type": "code",
   "execution_count": null,
   "id": "identical-amendment",
   "metadata": {
    "deletable": false,
    "editable": false,
    "nbgrader": {
     "cell_type": "code",
     "checksum": "75f0a6afe09ac28f3a5780bccbd63844",
     "grade": true,
     "grade_id": "cell-bf0a82655e5faa3e",
     "locked": true,
     "points": 3,
     "schema_version": 3,
     "solution": false,
     "task": false
    }
   },
   "outputs": [],
   "source": [
    "# For testing iterate_ifs\n",
    "# 3 Marks\n",
    "# Do not try to delete this cell\n",
    "# Run this cell for grading\n",
    "_globals = globals()\n",
    "question4e(_globals)"
   ]
  },
  {
   "cell_type": "code",
   "execution_count": null,
   "id": "bizarre-baking",
   "metadata": {
    "deletable": false,
    "nbgrader": {
     "cell_type": "code",
     "checksum": "6973720377729a45bed2903d5a2f3960",
     "grade": false,
     "grade_id": "cell-f3911287c3952ecb",
     "locked": false,
     "schema_version": 3,
     "solution": true,
     "task": false
    }
   },
   "outputs": [],
   "source": [
    "def ifs_plot(matrices, vectors, coords0, nskip, niterate, *, markersize=0.5, weights=None):\n",
    "    # YOUR CODE HERE\n",
    "    raise NotImplementedError()"
   ]
  },
  {
   "cell_type": "markdown",
   "id": "portable-soundtrack",
   "metadata": {
    "deletable": false,
    "editable": false,
    "nbgrader": {
     "cell_type": "markdown",
     "checksum": "cd0a699d20a7fc6d14d1a2652c4ae46a",
     "grade": false,
     "grade_id": "cell-f139bf500a2b6ce7",
     "locked": true,
     "schema_version": 3,
     "solution": false,
     "task": false
    }
   },
   "source": [
    "## Bonus Question\n",
    "\n",
    "Consider a list of integers denoting the positions of people queuing in a line, where the person in the front of the queue is integer 1, the second person 2, all the way to the last person in position $n$. In this queue, an individual can bribe the person directly in front of them and can at most make two bribes. Write a function that takes in a list of integers and determines the number of bribes required to get the queue into its current state. If the queue is not possible to achieve through the bribing mechanism described above, then the function should return the string `not possible`. \n",
    "\n",
    "**Example:**\n",
    "\n",
    "Given the input `[2, 1, 5, 3, 4]`, the function should return 3, this being the number of bribes to move from `[1, 2, 3, 4, 5]` to the given input."
   ]
  },
  {
   "cell_type": "code",
   "execution_count": null,
   "id": "cleared-belarus",
   "metadata": {
    "deletable": false,
    "nbgrader": {
     "cell_type": "code",
     "checksum": "497a6df1fd25e954ec73920d09b56eae",
     "grade": false,
     "grade_id": "cell-f1854e2dfb7cec21",
     "locked": false,
     "schema_version": 3,
     "solution": true,
     "task": false
    }
   },
   "outputs": [],
   "source": [
    "def queue_bribe(queue):\n",
    "    \"\"\"\n",
    "    Given an arrangement of the integers between 1 and n,\n",
    "    returns the number of transpositions needed to obtain\n",
    "    this arrangement, starting with [1, 2, ..., n], where\n",
    "    each element may migrate to the left a maximum of two\n",
    "    places.\n",
    "    \"\"\"\n",
    "    # YOUR CODE HERE\n",
    "    raise NotImplementedError()"
   ]
  },
  {
   "cell_type": "code",
   "execution_count": null,
   "id": "stuck-kitchen",
   "metadata": {
    "deletable": false,
    "editable": false,
    "nbgrader": {
     "cell_type": "code",
     "checksum": "4ede8764aa8c31eb568565237dbbda82",
     "grade": true,
     "grade_id": "cell-c120655e8ffe380d",
     "locked": true,
     "points": 1,
     "schema_version": 3,
     "solution": false,
     "task": false
    }
   },
   "outputs": [],
   "source": [
    "# Run this test cell to check your code\n",
    "# Do not delete this cell\n",
    "# 1 mark\n",
    "# Unit test\n",
    "q = [2, 1, 5, 3, 4]\n",
    "tans = 3\n",
    "assert(queue_bribe(q) == tans)\n",
    "print('Test case passed!!!')"
   ]
  },
  {
   "cell_type": "code",
   "execution_count": null,
   "id": "hydraulic-things",
   "metadata": {
    "deletable": false,
    "editable": false,
    "nbgrader": {
     "cell_type": "code",
     "checksum": "13b370f38be16e759bd9c33b57825833",
     "grade": true,
     "grade_id": "cell-11db81758bc1a9a2",
     "locked": true,
     "points": 1,
     "schema_version": 3,
     "solution": false,
     "task": false
    }
   },
   "outputs": [],
   "source": [
    "# Run this test cell to check your code\n",
    "# Do not delete this cell\n",
    "# 1 mark\n",
    "# Unit test\n",
    "q = [2, 5, 1, 3, 4]\n",
    "tans = 'not possible'\n",
    "assert(queue_bribe(q) == tans)\n",
    "print('Test case passed!!!')"
   ]
  },
  {
   "cell_type": "code",
   "execution_count": null,
   "id": "removed-domain",
   "metadata": {
    "deletable": false,
    "editable": false,
    "nbgrader": {
     "cell_type": "code",
     "checksum": "ed64f5903903b31697ba2adf707124e3",
     "grade": true,
     "grade_id": "cell-64aac9242a875182",
     "locked": true,
     "points": 3,
     "schema_version": 3,
     "solution": false,
     "task": false
    }
   },
   "outputs": [],
   "source": [
    "# Hidden test\n",
    "# No output will be produced\n",
    "# 3 marks"
   ]
  },
  {
   "cell_type": "code",
   "execution_count": null,
   "id": "mobile-knight",
   "metadata": {},
   "outputs": [],
   "source": []
  }
 ],
 "metadata": {
  "kernelspec": {
   "display_name": "Python 3 (vanilla)",
   "language": "python",
   "name": "vanilla"
  },
  "language_info": {
   "codemirror_mode": {
    "name": "ipython",
    "version": 3
   },
   "file_extension": ".py",
   "mimetype": "text/x-python",
   "name": "python",
   "nbconvert_exporter": "python",
   "pygments_lexer": "ipython3",
   "version": "3.10.6"
  }
 },
 "nbformat": 4,
 "nbformat_minor": 5
}
